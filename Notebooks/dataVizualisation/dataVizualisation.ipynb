{
 "cells": [
  {
   "cell_type": "markdown",
   "metadata": {},
   "source": [
    "# Librairies"
   ]
  },
  {
   "cell_type": "code",
   "execution_count": 1,
   "metadata": {},
   "outputs": [],
   "source": [
    "import matplotlib.pyplot as plt\n",
    "import pandas as pd\n",
    "import numpy as np"
   ]
  },
  {
   "cell_type": "markdown",
   "metadata": {},
   "source": [
    "# Data"
   ]
  },
  {
   "cell_type": "code",
   "execution_count": 11,
   "metadata": {},
   "outputs": [],
   "source": [
    "crimeInFranceByDep2012=pd.read_csv(\"crimeInFranceByDep2012.csv\").set_index('numDep')\n",
    "crimeInFranceByDep2012=pd.read_csv(\"crimeInFranceByDep2012.csv\").set_index('numDep')\n",
    "crimeInFranceByDep2012=pd.read_csv(\"crimeInFranceByDep2012.csv\").set_index('numDep')\n",
    "crimeInFranceByDep2012=pd.read_csv(\"crimeInFranceByDep2012.csv\").set_index('numDep')\n",
    "crimeInFranceByDep2012=pd.read_csv(\"crimeInFranceByDep2012.csv\").set_index('numDep')\n",
    "crimeInFranceByDep2012=pd.read_csv(\"crimeInFranceByDep2012.csv\").set_index('numDep')\n",
    "crimeInFranceByDep2012=pd.read_csv(\"crimeInFranceByDep2012.csv\").set_index('numDep')\n",
    "crimeInFranceByDep2012=pd.read_csv(\"crimeInFranceByDep2012.csv\").set_index('numDep')\n"
   ]
  },
  {
   "cell_type": "code",
   "execution_count": 12,
   "metadata": {},
   "outputs": [
    {
     "data": {
      "text/html": [
       "<div>\n",
       "<style scoped>\n",
       "    .dataframe tbody tr th:only-of-type {\n",
       "        vertical-align: middle;\n",
       "    }\n",
       "\n",
       "    .dataframe tbody tr th {\n",
       "        vertical-align: top;\n",
       "    }\n",
       "\n",
       "    .dataframe thead th {\n",
       "        text-align: right;\n",
       "    }\n",
       "</style>\n",
       "<table border=\"1\" class=\"dataframe\">\n",
       "  <thead>\n",
       "    <tr style=\"text-align: right;\">\n",
       "      <th></th>\n",
       "      <th>Related to homicide</th>\n",
       "      <th>Moral violence</th>\n",
       "      <th>Robbery</th>\n",
       "      <th>Physical violence</th>\n",
       "      <th>Drug, Alcohol, Health</th>\n",
       "      <th>Public degradations</th>\n",
       "    </tr>\n",
       "    <tr>\n",
       "      <th>numDep</th>\n",
       "      <th></th>\n",
       "      <th></th>\n",
       "      <th></th>\n",
       "      <th></th>\n",
       "      <th></th>\n",
       "      <th></th>\n",
       "    </tr>\n",
       "  </thead>\n",
       "  <tbody>\n",
       "    <tr>\n",
       "      <th>1</th>\n",
       "      <td>280</td>\n",
       "      <td>151</td>\n",
       "      <td>2094</td>\n",
       "      <td>120</td>\n",
       "      <td>515</td>\n",
       "      <td>2072</td>\n",
       "    </tr>\n",
       "    <tr>\n",
       "      <th>2</th>\n",
       "      <td>1127</td>\n",
       "      <td>581</td>\n",
       "      <td>4921</td>\n",
       "      <td>397</td>\n",
       "      <td>852</td>\n",
       "      <td>2396</td>\n",
       "    </tr>\n",
       "    <tr>\n",
       "      <th>3</th>\n",
       "      <td>526</td>\n",
       "      <td>358</td>\n",
       "      <td>2861</td>\n",
       "      <td>286</td>\n",
       "      <td>381</td>\n",
       "      <td>1575</td>\n",
       "    </tr>\n",
       "    <tr>\n",
       "      <th>4</th>\n",
       "      <td>152</td>\n",
       "      <td>98</td>\n",
       "      <td>1571</td>\n",
       "      <td>79</td>\n",
       "      <td>185</td>\n",
       "      <td>485</td>\n",
       "    </tr>\n",
       "    <tr>\n",
       "      <th>5</th>\n",
       "      <td>176</td>\n",
       "      <td>80</td>\n",
       "      <td>1357</td>\n",
       "      <td>113</td>\n",
       "      <td>179</td>\n",
       "      <td>800</td>\n",
       "    </tr>\n",
       "    <tr>\n",
       "      <th>...</th>\n",
       "      <td>...</td>\n",
       "      <td>...</td>\n",
       "      <td>...</td>\n",
       "      <td>...</td>\n",
       "      <td>...</td>\n",
       "      <td>...</td>\n",
       "    </tr>\n",
       "    <tr>\n",
       "      <th>93</th>\n",
       "      <td>8165</td>\n",
       "      <td>3803</td>\n",
       "      <td>63203</td>\n",
       "      <td>2434</td>\n",
       "      <td>8864</td>\n",
       "      <td>19650</td>\n",
       "    </tr>\n",
       "    <tr>\n",
       "      <th>94</th>\n",
       "      <td>5751</td>\n",
       "      <td>3338</td>\n",
       "      <td>54139</td>\n",
       "      <td>2104</td>\n",
       "      <td>6444</td>\n",
       "      <td>20720</td>\n",
       "    </tr>\n",
       "    <tr>\n",
       "      <th>95</th>\n",
       "      <td>2933</td>\n",
       "      <td>1745</td>\n",
       "      <td>22687</td>\n",
       "      <td>1025</td>\n",
       "      <td>3335</td>\n",
       "      <td>8757</td>\n",
       "    </tr>\n",
       "    <tr>\n",
       "      <th>991</th>\n",
       "      <td>394</td>\n",
       "      <td>307</td>\n",
       "      <td>2635</td>\n",
       "      <td>206</td>\n",
       "      <td>299</td>\n",
       "      <td>1323</td>\n",
       "    </tr>\n",
       "    <tr>\n",
       "      <th>992</th>\n",
       "      <td>808</td>\n",
       "      <td>427</td>\n",
       "      <td>8016</td>\n",
       "      <td>329</td>\n",
       "      <td>466</td>\n",
       "      <td>2200</td>\n",
       "    </tr>\n",
       "  </tbody>\n",
       "</table>\n",
       "<p>95 rows × 6 columns</p>\n",
       "</div>"
      ],
      "text/plain": [
       "        Related to homicide  Moral violence  Robbery  Physical violence  \\\n",
       "numDep                                                                    \n",
       "1                       280             151     2094                120   \n",
       "2                      1127             581     4921                397   \n",
       "3                       526             358     2861                286   \n",
       "4                       152              98     1571                 79   \n",
       "5                       176              80     1357                113   \n",
       "...                     ...             ...      ...                ...   \n",
       "93                     8165            3803    63203               2434   \n",
       "94                     5751            3338    54139               2104   \n",
       "95                     2933            1745    22687               1025   \n",
       "991                     394             307     2635                206   \n",
       "992                     808             427     8016                329   \n",
       "\n",
       "        Drug, Alcohol, Health  Public degradations  \n",
       "numDep                                              \n",
       "1                         515                 2072  \n",
       "2                         852                 2396  \n",
       "3                         381                 1575  \n",
       "4                         185                  485  \n",
       "5                         179                  800  \n",
       "...                       ...                  ...  \n",
       "93                       8864                19650  \n",
       "94                       6444                20720  \n",
       "95                       3335                 8757  \n",
       "991                       299                 1323  \n",
       "992                       466                 2200  \n",
       "\n",
       "[95 rows x 6 columns]"
      ]
     },
     "execution_count": 12,
     "metadata": {},
     "output_type": "execute_result"
    }
   ],
   "source": [
    "crimeInFranceByDep2012"
   ]
  },
  {
   "cell_type": "code",
   "execution_count": 19,
   "metadata": {},
   "outputs": [],
   "source": [
    "crimeInFrance2012_2020=pd.read_csv(\"crimeInFrance2012_2020.csv\")"
   ]
  },
  {
   "cell_type": "code",
   "execution_count": 20,
   "metadata": {},
   "outputs": [
    {
     "data": {
      "text/html": [
       "<div>\n",
       "<style scoped>\n",
       "    .dataframe tbody tr th:only-of-type {\n",
       "        vertical-align: middle;\n",
       "    }\n",
       "\n",
       "    .dataframe tbody tr th {\n",
       "        vertical-align: top;\n",
       "    }\n",
       "\n",
       "    .dataframe thead th {\n",
       "        text-align: right;\n",
       "    }\n",
       "</style>\n",
       "<table border=\"1\" class=\"dataframe\">\n",
       "  <thead>\n",
       "    <tr style=\"text-align: right;\">\n",
       "      <th></th>\n",
       "      <th>year</th>\n",
       "      <th>Related to homicide</th>\n",
       "      <th>Moral violence</th>\n",
       "      <th>Robbery</th>\n",
       "      <th>Physical violence</th>\n",
       "      <th>Drug, Alcohol, Health</th>\n",
       "      <th>Public degradations</th>\n",
       "    </tr>\n",
       "  </thead>\n",
       "  <tbody>\n",
       "    <tr>\n",
       "      <th>0</th>\n",
       "      <td>2012</td>\n",
       "      <td>143567</td>\n",
       "      <td>86650</td>\n",
       "      <td>1223643</td>\n",
       "      <td>64578</td>\n",
       "      <td>140312</td>\n",
       "      <td>449367</td>\n",
       "    </tr>\n",
       "    <tr>\n",
       "      <th>1</th>\n",
       "      <td>2013</td>\n",
       "      <td>142966</td>\n",
       "      <td>88728</td>\n",
       "      <td>1273604</td>\n",
       "      <td>64382</td>\n",
       "      <td>142536</td>\n",
       "      <td>400400</td>\n",
       "    </tr>\n",
       "    <tr>\n",
       "      <th>2</th>\n",
       "      <td>2014</td>\n",
       "      <td>143427</td>\n",
       "      <td>96491</td>\n",
       "      <td>1294530</td>\n",
       "      <td>73697</td>\n",
       "      <td>145487</td>\n",
       "      <td>413335</td>\n",
       "    </tr>\n",
       "    <tr>\n",
       "      <th>3</th>\n",
       "      <td>2015</td>\n",
       "      <td>156559</td>\n",
       "      <td>110469</td>\n",
       "      <td>1266334</td>\n",
       "      <td>79187</td>\n",
       "      <td>148120</td>\n",
       "      <td>434679</td>\n",
       "    </tr>\n",
       "    <tr>\n",
       "      <th>4</th>\n",
       "      <td>2016</td>\n",
       "      <td>160163</td>\n",
       "      <td>109894</td>\n",
       "      <td>1242088</td>\n",
       "      <td>84136</td>\n",
       "      <td>145985</td>\n",
       "      <td>434531</td>\n",
       "    </tr>\n",
       "    <tr>\n",
       "      <th>5</th>\n",
       "      <td>2017</td>\n",
       "      <td>164554</td>\n",
       "      <td>109593</td>\n",
       "      <td>1299067</td>\n",
       "      <td>92695</td>\n",
       "      <td>152258</td>\n",
       "      <td>443607</td>\n",
       "    </tr>\n",
       "    <tr>\n",
       "      <th>6</th>\n",
       "      <td>2018</td>\n",
       "      <td>175748</td>\n",
       "      <td>117016</td>\n",
       "      <td>1263021</td>\n",
       "      <td>100898</td>\n",
       "      <td>153618</td>\n",
       "      <td>452517</td>\n",
       "    </tr>\n",
       "    <tr>\n",
       "      <th>7</th>\n",
       "      <td>2019</td>\n",
       "      <td>188155</td>\n",
       "      <td>126678</td>\n",
       "      <td>1277586</td>\n",
       "      <td>106218</td>\n",
       "      <td>146811</td>\n",
       "      <td>485352</td>\n",
       "    </tr>\n",
       "    <tr>\n",
       "      <th>8</th>\n",
       "      <td>2020</td>\n",
       "      <td>184894</td>\n",
       "      <td>121424</td>\n",
       "      <td>1024802</td>\n",
       "      <td>100571</td>\n",
       "      <td>131925</td>\n",
       "      <td>447989</td>\n",
       "    </tr>\n",
       "  </tbody>\n",
       "</table>\n",
       "</div>"
      ],
      "text/plain": [
       "   year  Related to homicide  Moral violence  Robbery  Physical violence  \\\n",
       "0  2012               143567           86650  1223643              64578   \n",
       "1  2013               142966           88728  1273604              64382   \n",
       "2  2014               143427           96491  1294530              73697   \n",
       "3  2015               156559          110469  1266334              79187   \n",
       "4  2016               160163          109894  1242088              84136   \n",
       "5  2017               164554          109593  1299067              92695   \n",
       "6  2018               175748          117016  1263021             100898   \n",
       "7  2019               188155          126678  1277586             106218   \n",
       "8  2020               184894          121424  1024802             100571   \n",
       "\n",
       "   Drug, Alcohol, Health  Public degradations  \n",
       "0                 140312               449367  \n",
       "1                 142536               400400  \n",
       "2                 145487               413335  \n",
       "3                 148120               434679  \n",
       "4                 145985               434531  \n",
       "5                 152258               443607  \n",
       "6                 153618               452517  \n",
       "7                 146811               485352  \n",
       "8                 131925               447989  "
      ]
     },
     "execution_count": 20,
     "metadata": {},
     "output_type": "execute_result"
    }
   ],
   "source": [
    "crimeInFranceByDep2012"
   ]
  },
  {
   "cell_type": "markdown",
   "metadata": {},
   "source": [
    "# Vizualisation"
   ]
  },
  {
   "cell_type": "markdown",
   "metadata": {},
   "source": [
    "We will see the general tendance of crime since 2012. "
   ]
  },
  {
   "cell_type": "code",
   "execution_count": 35,
   "metadata": {},
   "outputs": [
    {
     "data": {
      "application/vnd.plotly.v1+json": {
       "config": {
        "plotlyServerURL": "https://plot.ly"
       },
       "data": [
        {
         "hovertemplate": "variable=Related to homicide<br>year=%{x}<br>value=%{y}<extra></extra>",
         "legendgroup": "Related to homicide",
         "line": {
          "color": "#636efa",
          "dash": "solid"
         },
         "marker": {
          "symbol": "circle"
         },
         "mode": "lines",
         "name": "Related to homicide",
         "orientation": "v",
         "showlegend": true,
         "type": "scatter",
         "x": [
          2012,
          2013,
          2014,
          2015,
          2016,
          2017,
          2018,
          2019,
          2020
         ],
         "xaxis": "x",
         "y": [
          143567,
          142966,
          143427,
          156559,
          160163,
          164554,
          175748,
          188155,
          184894
         ],
         "yaxis": "y"
        },
        {
         "hovertemplate": "variable=Moral violence<br>year=%{x}<br>value=%{y}<extra></extra>",
         "legendgroup": "Moral violence",
         "line": {
          "color": "#EF553B",
          "dash": "solid"
         },
         "marker": {
          "symbol": "circle"
         },
         "mode": "lines",
         "name": "Moral violence",
         "orientation": "v",
         "showlegend": true,
         "type": "scatter",
         "x": [
          2012,
          2013,
          2014,
          2015,
          2016,
          2017,
          2018,
          2019,
          2020
         ],
         "xaxis": "x",
         "y": [
          86650,
          88728,
          96491,
          110469,
          109894,
          109593,
          117016,
          126678,
          121424
         ],
         "yaxis": "y"
        },
        {
         "hovertemplate": "variable=Robbery<br>year=%{x}<br>value=%{y}<extra></extra>",
         "legendgroup": "Robbery",
         "line": {
          "color": "#00cc96",
          "dash": "solid"
         },
         "marker": {
          "symbol": "circle"
         },
         "mode": "lines",
         "name": "Robbery",
         "orientation": "v",
         "showlegend": true,
         "type": "scatter",
         "x": [
          2012,
          2013,
          2014,
          2015,
          2016,
          2017,
          2018,
          2019,
          2020
         ],
         "xaxis": "x",
         "y": [
          1223643,
          1273604,
          1294530,
          1266334,
          1242088,
          1299067,
          1263021,
          1277586,
          1024802
         ],
         "yaxis": "y"
        },
        {
         "hovertemplate": "variable=Physical violence<br>year=%{x}<br>value=%{y}<extra></extra>",
         "legendgroup": "Physical violence",
         "line": {
          "color": "#ab63fa",
          "dash": "solid"
         },
         "marker": {
          "symbol": "circle"
         },
         "mode": "lines",
         "name": "Physical violence",
         "orientation": "v",
         "showlegend": true,
         "type": "scatter",
         "x": [
          2012,
          2013,
          2014,
          2015,
          2016,
          2017,
          2018,
          2019,
          2020
         ],
         "xaxis": "x",
         "y": [
          64578,
          64382,
          73697,
          79187,
          84136,
          92695,
          100898,
          106218,
          100571
         ],
         "yaxis": "y"
        },
        {
         "hovertemplate": "variable=Drug, Alcohol, Health<br>year=%{x}<br>value=%{y}<extra></extra>",
         "legendgroup": "Drug, Alcohol, Health",
         "line": {
          "color": "#FFA15A",
          "dash": "solid"
         },
         "marker": {
          "symbol": "circle"
         },
         "mode": "lines",
         "name": "Drug, Alcohol, Health",
         "orientation": "v",
         "showlegend": true,
         "type": "scatter",
         "x": [
          2012,
          2013,
          2014,
          2015,
          2016,
          2017,
          2018,
          2019,
          2020
         ],
         "xaxis": "x",
         "y": [
          140312,
          142536,
          145487,
          148120,
          145985,
          152258,
          153618,
          146811,
          131925
         ],
         "yaxis": "y"
        },
        {
         "hovertemplate": "variable=Public degradations<br>year=%{x}<br>value=%{y}<extra></extra>",
         "legendgroup": "Public degradations",
         "line": {
          "color": "#19d3f3",
          "dash": "solid"
         },
         "marker": {
          "symbol": "circle"
         },
         "mode": "lines",
         "name": "Public degradations",
         "orientation": "v",
         "showlegend": true,
         "type": "scatter",
         "x": [
          2012,
          2013,
          2014,
          2015,
          2016,
          2017,
          2018,
          2019,
          2020
         ],
         "xaxis": "x",
         "y": [
          449367,
          400400,
          413335,
          434679,
          434531,
          443607,
          452517,
          485352,
          447989
         ],
         "yaxis": "y"
        }
       ],
       "layout": {
        "legend": {
         "title": {
          "text": "variable"
         },
         "tracegroupgap": 0
        },
        "template": {
         "data": {
          "bar": [
           {
            "error_x": {
             "color": "#2a3f5f"
            },
            "error_y": {
             "color": "#2a3f5f"
            },
            "marker": {
             "line": {
              "color": "#E5ECF6",
              "width": 0.5
             },
             "pattern": {
              "fillmode": "overlay",
              "size": 10,
              "solidity": 0.2
             }
            },
            "type": "bar"
           }
          ],
          "barpolar": [
           {
            "marker": {
             "line": {
              "color": "#E5ECF6",
              "width": 0.5
             },
             "pattern": {
              "fillmode": "overlay",
              "size": 10,
              "solidity": 0.2
             }
            },
            "type": "barpolar"
           }
          ],
          "carpet": [
           {
            "aaxis": {
             "endlinecolor": "#2a3f5f",
             "gridcolor": "white",
             "linecolor": "white",
             "minorgridcolor": "white",
             "startlinecolor": "#2a3f5f"
            },
            "baxis": {
             "endlinecolor": "#2a3f5f",
             "gridcolor": "white",
             "linecolor": "white",
             "minorgridcolor": "white",
             "startlinecolor": "#2a3f5f"
            },
            "type": "carpet"
           }
          ],
          "choropleth": [
           {
            "colorbar": {
             "outlinewidth": 0,
             "ticks": ""
            },
            "type": "choropleth"
           }
          ],
          "contour": [
           {
            "colorbar": {
             "outlinewidth": 0,
             "ticks": ""
            },
            "colorscale": [
             [
              0,
              "#0d0887"
             ],
             [
              0.1111111111111111,
              "#46039f"
             ],
             [
              0.2222222222222222,
              "#7201a8"
             ],
             [
              0.3333333333333333,
              "#9c179e"
             ],
             [
              0.4444444444444444,
              "#bd3786"
             ],
             [
              0.5555555555555556,
              "#d8576b"
             ],
             [
              0.6666666666666666,
              "#ed7953"
             ],
             [
              0.7777777777777778,
              "#fb9f3a"
             ],
             [
              0.8888888888888888,
              "#fdca26"
             ],
             [
              1,
              "#f0f921"
             ]
            ],
            "type": "contour"
           }
          ],
          "contourcarpet": [
           {
            "colorbar": {
             "outlinewidth": 0,
             "ticks": ""
            },
            "type": "contourcarpet"
           }
          ],
          "heatmap": [
           {
            "colorbar": {
             "outlinewidth": 0,
             "ticks": ""
            },
            "colorscale": [
             [
              0,
              "#0d0887"
             ],
             [
              0.1111111111111111,
              "#46039f"
             ],
             [
              0.2222222222222222,
              "#7201a8"
             ],
             [
              0.3333333333333333,
              "#9c179e"
             ],
             [
              0.4444444444444444,
              "#bd3786"
             ],
             [
              0.5555555555555556,
              "#d8576b"
             ],
             [
              0.6666666666666666,
              "#ed7953"
             ],
             [
              0.7777777777777778,
              "#fb9f3a"
             ],
             [
              0.8888888888888888,
              "#fdca26"
             ],
             [
              1,
              "#f0f921"
             ]
            ],
            "type": "heatmap"
           }
          ],
          "heatmapgl": [
           {
            "colorbar": {
             "outlinewidth": 0,
             "ticks": ""
            },
            "colorscale": [
             [
              0,
              "#0d0887"
             ],
             [
              0.1111111111111111,
              "#46039f"
             ],
             [
              0.2222222222222222,
              "#7201a8"
             ],
             [
              0.3333333333333333,
              "#9c179e"
             ],
             [
              0.4444444444444444,
              "#bd3786"
             ],
             [
              0.5555555555555556,
              "#d8576b"
             ],
             [
              0.6666666666666666,
              "#ed7953"
             ],
             [
              0.7777777777777778,
              "#fb9f3a"
             ],
             [
              0.8888888888888888,
              "#fdca26"
             ],
             [
              1,
              "#f0f921"
             ]
            ],
            "type": "heatmapgl"
           }
          ],
          "histogram": [
           {
            "marker": {
             "pattern": {
              "fillmode": "overlay",
              "size": 10,
              "solidity": 0.2
             }
            },
            "type": "histogram"
           }
          ],
          "histogram2d": [
           {
            "colorbar": {
             "outlinewidth": 0,
             "ticks": ""
            },
            "colorscale": [
             [
              0,
              "#0d0887"
             ],
             [
              0.1111111111111111,
              "#46039f"
             ],
             [
              0.2222222222222222,
              "#7201a8"
             ],
             [
              0.3333333333333333,
              "#9c179e"
             ],
             [
              0.4444444444444444,
              "#bd3786"
             ],
             [
              0.5555555555555556,
              "#d8576b"
             ],
             [
              0.6666666666666666,
              "#ed7953"
             ],
             [
              0.7777777777777778,
              "#fb9f3a"
             ],
             [
              0.8888888888888888,
              "#fdca26"
             ],
             [
              1,
              "#f0f921"
             ]
            ],
            "type": "histogram2d"
           }
          ],
          "histogram2dcontour": [
           {
            "colorbar": {
             "outlinewidth": 0,
             "ticks": ""
            },
            "colorscale": [
             [
              0,
              "#0d0887"
             ],
             [
              0.1111111111111111,
              "#46039f"
             ],
             [
              0.2222222222222222,
              "#7201a8"
             ],
             [
              0.3333333333333333,
              "#9c179e"
             ],
             [
              0.4444444444444444,
              "#bd3786"
             ],
             [
              0.5555555555555556,
              "#d8576b"
             ],
             [
              0.6666666666666666,
              "#ed7953"
             ],
             [
              0.7777777777777778,
              "#fb9f3a"
             ],
             [
              0.8888888888888888,
              "#fdca26"
             ],
             [
              1,
              "#f0f921"
             ]
            ],
            "type": "histogram2dcontour"
           }
          ],
          "mesh3d": [
           {
            "colorbar": {
             "outlinewidth": 0,
             "ticks": ""
            },
            "type": "mesh3d"
           }
          ],
          "parcoords": [
           {
            "line": {
             "colorbar": {
              "outlinewidth": 0,
              "ticks": ""
             }
            },
            "type": "parcoords"
           }
          ],
          "pie": [
           {
            "automargin": true,
            "type": "pie"
           }
          ],
          "scatter": [
           {
            "marker": {
             "colorbar": {
              "outlinewidth": 0,
              "ticks": ""
             }
            },
            "type": "scatter"
           }
          ],
          "scatter3d": [
           {
            "line": {
             "colorbar": {
              "outlinewidth": 0,
              "ticks": ""
             }
            },
            "marker": {
             "colorbar": {
              "outlinewidth": 0,
              "ticks": ""
             }
            },
            "type": "scatter3d"
           }
          ],
          "scattercarpet": [
           {
            "marker": {
             "colorbar": {
              "outlinewidth": 0,
              "ticks": ""
             }
            },
            "type": "scattercarpet"
           }
          ],
          "scattergeo": [
           {
            "marker": {
             "colorbar": {
              "outlinewidth": 0,
              "ticks": ""
             }
            },
            "type": "scattergeo"
           }
          ],
          "scattergl": [
           {
            "marker": {
             "colorbar": {
              "outlinewidth": 0,
              "ticks": ""
             }
            },
            "type": "scattergl"
           }
          ],
          "scattermapbox": [
           {
            "marker": {
             "colorbar": {
              "outlinewidth": 0,
              "ticks": ""
             }
            },
            "type": "scattermapbox"
           }
          ],
          "scatterpolar": [
           {
            "marker": {
             "colorbar": {
              "outlinewidth": 0,
              "ticks": ""
             }
            },
            "type": "scatterpolar"
           }
          ],
          "scatterpolargl": [
           {
            "marker": {
             "colorbar": {
              "outlinewidth": 0,
              "ticks": ""
             }
            },
            "type": "scatterpolargl"
           }
          ],
          "scatterternary": [
           {
            "marker": {
             "colorbar": {
              "outlinewidth": 0,
              "ticks": ""
             }
            },
            "type": "scatterternary"
           }
          ],
          "surface": [
           {
            "colorbar": {
             "outlinewidth": 0,
             "ticks": ""
            },
            "colorscale": [
             [
              0,
              "#0d0887"
             ],
             [
              0.1111111111111111,
              "#46039f"
             ],
             [
              0.2222222222222222,
              "#7201a8"
             ],
             [
              0.3333333333333333,
              "#9c179e"
             ],
             [
              0.4444444444444444,
              "#bd3786"
             ],
             [
              0.5555555555555556,
              "#d8576b"
             ],
             [
              0.6666666666666666,
              "#ed7953"
             ],
             [
              0.7777777777777778,
              "#fb9f3a"
             ],
             [
              0.8888888888888888,
              "#fdca26"
             ],
             [
              1,
              "#f0f921"
             ]
            ],
            "type": "surface"
           }
          ],
          "table": [
           {
            "cells": {
             "fill": {
              "color": "#EBF0F8"
             },
             "line": {
              "color": "white"
             }
            },
            "header": {
             "fill": {
              "color": "#C8D4E3"
             },
             "line": {
              "color": "white"
             }
            },
            "type": "table"
           }
          ]
         },
         "layout": {
          "annotationdefaults": {
           "arrowcolor": "#2a3f5f",
           "arrowhead": 0,
           "arrowwidth": 1
          },
          "autotypenumbers": "strict",
          "coloraxis": {
           "colorbar": {
            "outlinewidth": 0,
            "ticks": ""
           }
          },
          "colorscale": {
           "diverging": [
            [
             0,
             "#8e0152"
            ],
            [
             0.1,
             "#c51b7d"
            ],
            [
             0.2,
             "#de77ae"
            ],
            [
             0.3,
             "#f1b6da"
            ],
            [
             0.4,
             "#fde0ef"
            ],
            [
             0.5,
             "#f7f7f7"
            ],
            [
             0.6,
             "#e6f5d0"
            ],
            [
             0.7,
             "#b8e186"
            ],
            [
             0.8,
             "#7fbc41"
            ],
            [
             0.9,
             "#4d9221"
            ],
            [
             1,
             "#276419"
            ]
           ],
           "sequential": [
            [
             0,
             "#0d0887"
            ],
            [
             0.1111111111111111,
             "#46039f"
            ],
            [
             0.2222222222222222,
             "#7201a8"
            ],
            [
             0.3333333333333333,
             "#9c179e"
            ],
            [
             0.4444444444444444,
             "#bd3786"
            ],
            [
             0.5555555555555556,
             "#d8576b"
            ],
            [
             0.6666666666666666,
             "#ed7953"
            ],
            [
             0.7777777777777778,
             "#fb9f3a"
            ],
            [
             0.8888888888888888,
             "#fdca26"
            ],
            [
             1,
             "#f0f921"
            ]
           ],
           "sequentialminus": [
            [
             0,
             "#0d0887"
            ],
            [
             0.1111111111111111,
             "#46039f"
            ],
            [
             0.2222222222222222,
             "#7201a8"
            ],
            [
             0.3333333333333333,
             "#9c179e"
            ],
            [
             0.4444444444444444,
             "#bd3786"
            ],
            [
             0.5555555555555556,
             "#d8576b"
            ],
            [
             0.6666666666666666,
             "#ed7953"
            ],
            [
             0.7777777777777778,
             "#fb9f3a"
            ],
            [
             0.8888888888888888,
             "#fdca26"
            ],
            [
             1,
             "#f0f921"
            ]
           ]
          },
          "colorway": [
           "#636efa",
           "#EF553B",
           "#00cc96",
           "#ab63fa",
           "#FFA15A",
           "#19d3f3",
           "#FF6692",
           "#B6E880",
           "#FF97FF",
           "#FECB52"
          ],
          "font": {
           "color": "#2a3f5f"
          },
          "geo": {
           "bgcolor": "white",
           "lakecolor": "white",
           "landcolor": "#E5ECF6",
           "showlakes": true,
           "showland": true,
           "subunitcolor": "white"
          },
          "hoverlabel": {
           "align": "left"
          },
          "hovermode": "closest",
          "mapbox": {
           "style": "light"
          },
          "paper_bgcolor": "white",
          "plot_bgcolor": "#E5ECF6",
          "polar": {
           "angularaxis": {
            "gridcolor": "white",
            "linecolor": "white",
            "ticks": ""
           },
           "bgcolor": "#E5ECF6",
           "radialaxis": {
            "gridcolor": "white",
            "linecolor": "white",
            "ticks": ""
           }
          },
          "scene": {
           "xaxis": {
            "backgroundcolor": "#E5ECF6",
            "gridcolor": "white",
            "gridwidth": 2,
            "linecolor": "white",
            "showbackground": true,
            "ticks": "",
            "zerolinecolor": "white"
           },
           "yaxis": {
            "backgroundcolor": "#E5ECF6",
            "gridcolor": "white",
            "gridwidth": 2,
            "linecolor": "white",
            "showbackground": true,
            "ticks": "",
            "zerolinecolor": "white"
           },
           "zaxis": {
            "backgroundcolor": "#E5ECF6",
            "gridcolor": "white",
            "gridwidth": 2,
            "linecolor": "white",
            "showbackground": true,
            "ticks": "",
            "zerolinecolor": "white"
           }
          },
          "shapedefaults": {
           "line": {
            "color": "#2a3f5f"
           }
          },
          "ternary": {
           "aaxis": {
            "gridcolor": "white",
            "linecolor": "white",
            "ticks": ""
           },
           "baxis": {
            "gridcolor": "white",
            "linecolor": "white",
            "ticks": ""
           },
           "bgcolor": "#E5ECF6",
           "caxis": {
            "gridcolor": "white",
            "linecolor": "white",
            "ticks": ""
           }
          },
          "title": {
           "x": 0.05
          },
          "xaxis": {
           "automargin": true,
           "gridcolor": "white",
           "linecolor": "white",
           "ticks": "",
           "title": {
            "standoff": 15
           },
           "zerolinecolor": "white",
           "zerolinewidth": 2
          },
          "yaxis": {
           "automargin": true,
           "gridcolor": "white",
           "linecolor": "white",
           "ticks": "",
           "title": {
            "standoff": 15
           },
           "zerolinecolor": "white",
           "zerolinewidth": 2
          }
         }
        },
        "title": {
         "text": "Related to homicide"
        },
        "xaxis": {
         "anchor": "y",
         "domain": [
          0,
          1
         ],
         "title": {
          "text": "year"
         }
        },
        "yaxis": {
         "anchor": "x",
         "domain": [
          0,
          1
         ],
         "title": {
          "text": "value"
         }
        }
       }
      }
     },
     "metadata": {},
     "output_type": "display_data"
    }
   ],
   "source": [
    "import plotly.express as px\n",
    "\n",
    "fig = px.line(crimeInFrance2012_2020,x='year',y=crimeInFrance2012_2020.columns,title='Related to homicide')\n",
    "fig.show()"
   ]
  },
  {
   "cell_type": "markdown",
   "metadata": {},
   "source": [
    "Nonetheless, we have to consider the population of France. "
   ]
  },
  {
   "cell_type": "markdown",
   "metadata": {},
   "source": [
    "## Web Scrapping"
   ]
  },
  {
   "cell_type": "markdown",
   "metadata": {},
   "source": [
    "We will scrap wikipedia with the population of France :"
   ]
  },
  {
   "cell_type": "markdown",
   "metadata": {},
   "source": [
    "https://fr.wikipedia.org/wiki/D%C3%A9mographie_de_la_France"
   ]
  },
  {
   "cell_type": "code",
   "execution_count": 45,
   "metadata": {},
   "outputs": [],
   "source": [
    "from bs4 import BeautifulSoup\n",
    "import requests"
   ]
  },
  {
   "cell_type": "code",
   "execution_count": 83,
   "metadata": {},
   "outputs": [],
   "source": [
    "html_text=requests.get('https://fr.wikipedia.org/wiki/D%C3%A9mographie_de_la_France').text"
   ]
  },
  {
   "cell_type": "code",
   "execution_count": 107,
   "metadata": {},
   "outputs": [],
   "source": [
    "soup=BeautifulSoup(html_text,'lxml')\n",
    "table=soup.find('table',class_=\"wikitable\") # class list  "
   ]
  },
  {
   "cell_type": "code",
   "execution_count": 111,
   "metadata": {},
   "outputs": [
    {
     "data": {
      "text/plain": [
       "<table class=\"wikitable centre\">\n",
       "<tbody><tr>\n",
       "<th scope=\"col\">Type de collectivité\n",
       "</th>\n",
       "<th scope=\"col\">Nom\n",
       "</th>\n",
       "<th scope=\"col\">Population <br/>municipale\n",
       "</th>\n",
       "<th scope=\"col\">Recensement <br/>de référence\n",
       "</th></tr>\n",
       "<tr>\n",
       "<td rowspan=\"5\">Collectivités régies par l’article 74 de la Constitution\n",
       "</td>\n",
       "<td><a href=\"/wiki/Polyn%C3%A9sie_fran%C3%A7aise\" title=\"Polynésie française\">Polynésie française</a>\n",
       "</td>\n",
       "<td>275 918\n",
       "</td>\n",
       "<td>2017<sup class=\"reference\" id=\"cite_ref-PopPF_34-0\"><a href=\"#cite_note-PopPF-34\"><span class=\"cite_crochet\">[</span>34<span class=\"cite_crochet\">]</span></a></sup>\n",
       "</td></tr>\n",
       "<tr>\n",
       "<td><a href=\"/wiki/Saint-Barth%C3%A9lemy_(Antilles_fran%C3%A7aises)\" title=\"Saint-Barthélemy (Antilles françaises)\">Saint-Barthélemy</a>\n",
       "</td>\n",
       "<td>9 961\n",
       "</td>\n",
       "<td>2016<sup class=\"reference\" id=\"cite_ref-PopCOM_33-1\"><a href=\"#cite_note-PopCOM-33\"><span class=\"cite_crochet\">[</span>33<span class=\"cite_crochet\">]</span></a></sup>\n",
       "</td></tr>\n",
       "<tr>\n",
       "<td><a href=\"/wiki/Saint-Martin_(Antilles_fran%C3%A7aises)\" title=\"Saint-Martin (Antilles françaises)\">Saint-Martin</a>\n",
       "</td>\n",
       "<td>35 334\n",
       "</td>\n",
       "<td>2016<sup class=\"reference\" id=\"cite_ref-PopCOM_33-2\"><a href=\"#cite_note-PopCOM-33\"><span class=\"cite_crochet\">[</span>33<span class=\"cite_crochet\">]</span></a></sup>\n",
       "</td></tr>\n",
       "<tr>\n",
       "<td><a href=\"/wiki/Saint-Pierre-et-Miquelon\" title=\"Saint-Pierre-et-Miquelon\">Saint-Pierre-et-Miquelon</a>\n",
       "</td>\n",
       "<td>5 997\n",
       "</td>\n",
       "<td>2016<sup class=\"reference\" id=\"cite_ref-PopCOM_33-3\"><a href=\"#cite_note-PopCOM-33\"><span class=\"cite_crochet\">[</span>33<span class=\"cite_crochet\">]</span></a></sup>\n",
       "</td></tr>\n",
       "<tr>\n",
       "<td><a href=\"/wiki/Wallis-et-Futuna\" title=\"Wallis-et-Futuna\">Wallis-et-Futuna</a>\n",
       "</td>\n",
       "<td>11 558\n",
       "</td>\n",
       "<td>2018<sup class=\"reference\" id=\"cite_ref-PopWF_35-0\"><a href=\"#cite_note-PopWF-35\"><span class=\"cite_crochet\">[</span>35<span class=\"cite_crochet\">]</span></a></sup>\n",
       "</td></tr>\n",
       "<tr>\n",
       "<td>Collectivité d’outre-mer à statut particulier (<a href=\"/wiki/Sui_generis\" title=\"Sui generis\">sui generis</a>)<br/>(Titre XIII de la Constitution)\n",
       "</td>\n",
       "<td><a href=\"/wiki/Nouvelle-Cal%C3%A9donie\" title=\"Nouvelle-Calédonie\">Nouvelle-Calédonie</a>\n",
       "</td>\n",
       "<td>271 407\n",
       "</td>\n",
       "<td>2019<sup class=\"reference\" id=\"cite_ref-PopNC_36-0\"><a href=\"#cite_note-PopNC-36\"><span class=\"cite_crochet\">[</span>36<span class=\"cite_crochet\">]</span></a></sup>\n",
       "</td></tr></tbody></table>"
      ]
     },
     "execution_count": 111,
     "metadata": {},
     "output_type": "execute_result"
    }
   ],
   "source": [
    "table"
   ]
  },
  {
   "cell_type": "code",
   "execution_count": 108,
   "metadata": {},
   "outputs": [
    {
     "data": {
      "text/plain": [
       "'Démographie de la France — Wikipédia'"
      ]
     },
     "execution_count": 108,
     "metadata": {},
     "output_type": "execute_result"
    }
   ],
   "source": [
    "soup.title.string"
   ]
  },
  {
   "cell_type": "code",
   "execution_count": 109,
   "metadata": {},
   "outputs": [
    {
     "data": {
      "text/plain": [
       "4"
      ]
     },
     "execution_count": 109,
     "metadata": {},
     "output_type": "execute_result"
    }
   ],
   "source": [
    "# Number of columns in the table\n",
    "for row in table.findAll(\"tr\"):\n",
    "    cells = row.findAll('td')\n",
    "\n",
    "len(cells)"
   ]
  },
  {
   "cell_type": "code",
   "execution_count": 110,
   "metadata": {},
   "outputs": [
    {
     "data": {
      "text/plain": [
       "7"
      ]
     },
     "execution_count": 110,
     "metadata": {},
     "output_type": "execute_result"
    }
   ],
   "source": [
    "# number of rows in the table including header\n",
    "rows = table.findAll(\"tr\")\n",
    "len(rows)"
   ]
  },
  {
   "cell_type": "code",
   "execution_count": 104,
   "metadata": {},
   "outputs": [],
   "source": [
    "#Scrap the data and append to respective lists\n",
    "\n",
    "c1=[]\n",
    "c2=[]\n",
    "c3=[]\n",
    "c4=[]\n",
    "c5=[]\n",
    "c6=[]\n",
    "c7=[]\n",
    "for row in table.findAll(\"tr\"):\n",
    "    cells = row.findAll('td')\n",
    "    if len(cells)==6: #Only extract table body not heading\n",
    "        c1.append(cells[0].find(text=True))\n",
    "        c2.append(cells[1].find('a').text)  # fetch the text of the url in td tag. \n",
    "        c3.append(cells[2].find(text=True))\n",
    "        c4.append(cells[3].find(text=True))\n",
    "        c5.append(cells[4].find(text=True))\n",
    "        c6.append(cells[5].find(text=True))\n",
    "        c7.append(cells[5].find('a').get('href')) # get all source links as new list"
   ]
  },
  {
   "cell_type": "code",
   "execution_count": 106,
   "metadata": {},
   "outputs": [
    {
     "name": "stdout",
     "output_type": "stream",
     "text": [
      "['Type de collectivité', 'Nom', 'Population municipale', 'Recensement de référence']\n",
      "------------\n",
      "4\n"
     ]
    }
   ],
   "source": [
    "# header attributes of the table\n",
    "header = [th.text.rstrip() for th in rows[0].find_all('th')]\n",
    "print(header)\n",
    "print('------------')\n",
    "print(len(header))"
   ]
  },
  {
   "cell_type": "code",
   "execution_count": 105,
   "metadata": {},
   "outputs": [
    {
     "ename": "NameError",
     "evalue": "name 'header' is not defined",
     "output_type": "error",
     "traceback": [
      "\u001b[0;31m---------------------------------------------------------------------------\u001b[0m",
      "\u001b[0;31mNameError\u001b[0m                                 Traceback (most recent call last)",
      "\u001b[0;32m<ipython-input-105-97a5a2b6e73e>\u001b[0m in \u001b[0;36m<module>\u001b[0;34m()\u001b[0m\n\u001b[1;32m      1\u001b[0m \u001b[0;31m# create a dictionary\u001b[0m\u001b[0;34m\u001b[0m\u001b[0;34m\u001b[0m\u001b[0m\n\u001b[0;32m----> 2\u001b[0;31m \u001b[0md\u001b[0m \u001b[0;34m=\u001b[0m \u001b[0mdict\u001b[0m\u001b[0;34m(\u001b[0m\u001b[0;34m[\u001b[0m\u001b[0;34m(\u001b[0m\u001b[0mx\u001b[0m\u001b[0;34m,\u001b[0m\u001b[0;36m0\u001b[0m\u001b[0;34m)\u001b[0m \u001b[0;32mfor\u001b[0m \u001b[0mx\u001b[0m \u001b[0;32min\u001b[0m \u001b[0mheader\u001b[0m\u001b[0;34m]\u001b[0m\u001b[0;34m)\u001b[0m\u001b[0;34m\u001b[0m\u001b[0m\n\u001b[0m\u001b[1;32m      3\u001b[0m \u001b[0md\u001b[0m\u001b[0;34m\u001b[0m\u001b[0m\n",
      "\u001b[0;31mNameError\u001b[0m: name 'header' is not defined"
     ]
    }
   ],
   "source": [
    "# create a dictionary\n",
    "d = dict([(x,0) for x in header])\n",
    "d"
   ]
  },
  {
   "cell_type": "code",
   "execution_count": null,
   "metadata": {},
   "outputs": [],
   "source": []
  }
 ],
 "metadata": {
  "interpreter": {
   "hash": "037d1818fbf44f18849bc97085e1da2cc5b46dae87c46efcff64f00349c4efdb"
  },
  "kernelspec": {
   "display_name": "Python 3.6.2 64-bit ('base': conda)",
   "language": "python",
   "name": "python3"
  },
  "language_info": {
   "codemirror_mode": {
    "name": "ipython",
    "version": 3
   },
   "file_extension": ".py",
   "mimetype": "text/x-python",
   "name": "python",
   "nbconvert_exporter": "python",
   "pygments_lexer": "ipython3",
   "version": "3.6.2"
  },
  "orig_nbformat": 4
 },
 "nbformat": 4,
 "nbformat_minor": 2
}
